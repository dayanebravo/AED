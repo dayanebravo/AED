{
  "nbformat": 4,
  "nbformat_minor": 0,
  "metadata": {
    "colab": {
      "provenance": [],
      "authorship_tag": "ABX9TyNcyEDGt24efSEXBfV3c7Dp",
      "include_colab_link": true
    },
    "kernelspec": {
      "name": "python3",
      "display_name": "Python 3"
    },
    "language_info": {
      "name": "python"
    }
  },
  "cells": [
    {
      "cell_type": "markdown",
      "metadata": {
        "id": "view-in-github",
        "colab_type": "text"
      },
      "source": [
        "<a href=\"https://colab.research.google.com/github/dayanebravo/AED/blob/main/MaratonaPython.ipynb\" target=\"_parent\"><img src=\"https://colab.research.google.com/assets/colab-badge.svg\" alt=\"Open In Colab\"/></a>"
      ]
    },
    {
      "cell_type": "markdown",
      "source": [
        "**O contador do *range* tem valor fixo. Caso seja reutilizado em alguma  operação dentro de um laço ele não será atualizado.**"
      ],
      "metadata": {
        "id": "pR3rlwQidR6f"
      }
    },
    {
      "cell_type": "code",
      "execution_count": null,
      "metadata": {
        "id": "tgpQ9HVEYPg7"
      },
      "outputs": [],
      "source": [
        "n=15                      # aqui iniciamos o valor de n com qualquer valor\n",
        "                          # Esse for NÃO vai herdar o valor armazenado na operação anterior.\n",
        "for n in range(0,10,2):   # aqui os valores de n serão: 0, 2, 4, 6, 8! Veja que o 10 não pertence ao intervalo!\n",
        "  n=n+3                   # *colocando a soma aqui, iniciamos o print com n=0+k\n",
        "  print(n, end=\" \")       # mudamos o final do print para ser um espaço e não uma nova linha (\\n)\n",
        "  #n=n+3                  # *colocando a soma aqui, iniciamos o print com n=0\n",
        "\n",
        "# a resposta será:\n",
        "# 3 5 7 9 11"
      ]
    },
    {
      "cell_type": "markdown",
      "source": [
        "**Quando utilizamos *while*, é importante iniciar o contador antes.**"
      ],
      "metadata": {
        "id": "4VE3HxbtepSY"
      }
    },
    {
      "cell_type": "code",
      "source": [
        "print('estava armazenado o valor n=', n)\n",
        "\n",
        "n=0                      # aqui reiniciamos o valor de n, para não herdar o valor armazenado na operação anterior\n",
        "print('vamos iniciar o while com n=', n)\n",
        "while n<=10:             # ATENÇÃO!!! aqui a operação dentro do laço ALTERA o valor do n!!!\n",
        "  n=n+3                  # colocando a soma aqui, iniciamos o print com n=0+k\n",
        "  print(n, end=\" \")\n",
        "  #n=n+3                 # colocando a soma aqui, iniciamos o print com n=0\n",
        "\n",
        "\n",
        "# a resposta será:\n",
        "# 3 6 9 12"
      ],
      "metadata": {
        "id": "zGNVFXFbejS4"
      },
      "execution_count": null,
      "outputs": []
    },
    {
      "cell_type": "markdown",
      "source": [
        "**Quando usar *for* ou *while*?** \n",
        "\n",
        "Quando sabemos o intervalo, tanto faz, podemos utilizar os dois.\n",
        "\n",
        "Quando não sabemos, utilizamos o *while* e damos um critério de parada para o laço."
      ],
      "metadata": {
        "id": "5vAzUJHPv7Sb"
      }
    },
    {
      "cell_type": "markdown",
      "source": [
        "**Exemplo:** Suponha que estamos cadastrando o CPF dos participantes de um congresso.\n",
        "\n",
        "Precisamos receber um alerta quando o CPF do palestrante for anotado."
      ],
      "metadata": {
        "id": "_HAmmIBiwVtZ"
      }
    },
    {
      "cell_type": "code",
      "source": [
        "CPF=\"oi\"                              # aqui reiniciamos o valor de CPF, para não herdar o valor armazenado na operação anterior\n",
        "while CPF != 123456:                  # enquanto o CPF inserido não for o do palestrante\n",
        "  CPF = int(input('Qual o CPF? '))    # ATENÇÃO!!! receber o CPF do participante como um INTEIRO! Se não fizer isso, ele vai entender como string\n",
        "  if CPF != 123456:                   # se não for o CPF esperado, mostrar uma mensagem de aceite\n",
        "    print('ok, CPF aceito')\n",
        "\n",
        "print(\"**O PALESTRANTE CHEGOU**\")     # quando ocorrer o CPF esperado, o while encerra e essa mensagem aparece\n"
      ],
      "metadata": {
        "id": "RT_YM5WrYs-x"
      },
      "execution_count": null,
      "outputs": []
    },
    {
      "cell_type": "markdown",
      "source": [
        "**Quando o critério de parada tiver uma ação seguinte: *while* com *else*** "
      ],
      "metadata": {
        "id": "0sDl51kwyJUw"
      }
    },
    {
      "cell_type": "code",
      "source": [
        "CPF=0\n",
        "while CPF != 123456:\n",
        "  CPF = int(input('Qual o CPF? '))\n",
        "  if CPF != 123456:\n",
        "    print('ok, CPF aceito')\n",
        "\n",
        "else:                                                                 # quando o while encerrar, essa parte será executada\n",
        "  confere_CPF = int(input('por favor, reescreva o CPF '))             # vamos conferir se de fato é o CPF esperado, armazenando em outra variável\n",
        "  if confere_CPF == 123456:                                           # testando a condicional\n",
        "    print(\"**O PALESTRANTE CHEGOU!!! \\n ENTREGUE SUA CREDENCIAL**\")\n",
        "  else:                                                               # em caso de equívoco\n",
        "    print('este participante não é o palestrante')"
      ],
      "metadata": {
        "id": "yrbZ-J6HxKP4"
      },
      "execution_count": null,
      "outputs": []
    },
    {
      "cell_type": "markdown",
      "source": [
        "Cuidado com os testes lógicos envolvendo números. O zero será false!"
      ],
      "metadata": {
        "id": "pqaMGiJ31T1M"
      }
    },
    {
      "cell_type": "code",
      "source": [
        "n='precisa ser algo diferente de zero'          # precisamos iniciar com n!=0\n",
        "\n",
        "while n:                                        # não restringimos n\n",
        "  n = int(input('digite uma idade '))           # recebemos como inteiro\n",
        "\n",
        "  if n:                                         # condição livre\n",
        "    print(\"é diferente de zero\")\n",
        "  else:                                         # se n==0\n",
        "    print('é zero')"
      ],
      "metadata": {
        "id": "GapT8bO91Mc2"
      },
      "execution_count": null,
      "outputs": []
    },
    {
      "cell_type": "code",
      "source": [],
      "metadata": {
        "id": "vEp_Zf3U8NC0"
      },
      "execution_count": null,
      "outputs": []
    }
  ]
}